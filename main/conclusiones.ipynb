{
 "cells": [
  {
   "cell_type": "markdown",
   "metadata": {},
   "source": [
    "#### Conclusiones: "
   ]
  },
  {
   "cell_type": "markdown",
   "metadata": {},
   "source": [
    "- Se ve que la recurrencia mas alta de critica de medida se presenta en Cartagena, valledupar, Santa Marta y Cali. Por tal motivo se aconseja realizar un plan de mantenimiento evaluando el tipo de modem instalado , operador de red y cobertura de los 20 medidores que ocuparon el top 20 de recurrencia, lo cual ayudara a mejorar los indicadores de telemedida.\n",
    "\n",
    "<div style=\"text-align:center\">\n",
    "\n",
    "![Top](main/Captura.PNG)\n",
    "\n",
    "\n",
    "</div>"
   ]
  },
  {
   "cell_type": "markdown",
   "metadata": {},
   "source": [
    "**Hallazgos Clave de los Datos:**\n",
    "\n",
    "- En el conjunto de datos de Estados y Seriales, se observa que los registros de ubicación están incorrectamente asociados, ya que hay ciudades listadas en departamentos que no corresponden. Es crucial reforzar la captura de información para asegurar que tanto el departamento como la ciudad se registren correctamente.\n",
    "\n",
    "- El promedio de medidores instalados por ciudad es de 69. Se destaca que en Cartagena, Santa Marta y Cali se supera este promedio, indicando una mayor concentración de medidores en estas ciudades.\n",
    "\n",
    "- Durante el mes de abril, se registró un incremento en las críticas de medida en comparación con otros meses. Sería beneficioso investigar más a fondo si factores externos, como la temporada de lluvias o problemas con el operador de red, pudieron haber influido en la telemedida.\n",
    "\n",
    "- Las ciudades con más intentos de \"Crítica de medida\" o telemedida son Cartagena, Valledupar y Santa Marta. La eficacia de la telemedida puede depender del tipo de tecnología empleada, los medios de comunicación utilizados y la cobertura del operador. Disponer de esta información podría ser útil para categorizar los datos y desarrollar planes de mantenimiento que mejoren la eficiencia de la telemedida.\n",
    "\n",
    "- De los 980 medidores instalados, 99 aún no cuentan con una orden de trabajo asignada para la instalación del módem."
   ]
  }
 ],
 "metadata": {
  "kernelspec": {
   "display_name": "nuevo2-env",
   "language": "python",
   "name": "python3"
  },
  "language_info": {
   "codemirror_mode": {
    "name": "ipython",
    "version": 3
   },
   "file_extension": ".py",
   "mimetype": "text/x-python",
   "name": "python",
   "nbconvert_exporter": "python",
   "pygments_lexer": "ipython3",
   "version": "3.9.16"
  }
 },
 "nbformat": 4,
 "nbformat_minor": 2
}
