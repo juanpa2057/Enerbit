{
 "cells": [
  {
   "cell_type": "markdown",
   "metadata": {},
   "source": [
    "#### Conclusiones: "
   ]
  },
  {
   "cell_type": "markdown",
   "metadata": {},
   "source": [
    "- Es crucial evaluar el registro de órdenes de servicio para asegurar que cada instalación de medidor incluya una orden correspondiente para el módem. Esto garantizará que, desde el momento de la instalación, cada medidor esté equipado con su módem y se minimicen los problemas relacionados con la telemedida.\n",
    "\n",
    "- Dado que la mayor frecuencia de críticas de medida se observa en Cartagena, Valledupar, Santa Marta y Cali, se recomienda considerar la contratación de personal operativo propio en estas áreas. Analizar el costo-beneficio de esta medida es esencial, ya que podría resultar más económico emplear personal directo que pagar 1,000,000 COP por cada visita de campo.\n",
    "\n",
    "- En cuanto a los medidores que presentan una alta recurrencia en los intentos de crítica de medida, se sugiere realizar un análisis detallado de la tecnología utilizada y desarrollar un plan de mejora. Este enfoque debería centrarse especialmente en los 20 medidores más problemáticos, lo cual contribuirá a mejorar los indicadores de la telemedida\n",
    "\n",
    "<div style=\"text-align:center\">\n",
    "\n",
    "![image.png](./main/Captura.PNG)\n",
    "\n",
    "</div>\n"
   ]
  },
  {
   "cell_type": "markdown",
   "metadata": {},
   "source": [
    "**Hallazgos Clave de los Datos:**\n",
    "\n",
    "- En el conjunto de datos de Estados y Seriales, se observa que los registros de ubicación están incorrectamente asociados, ya que hay ciudades listadas en departamentos que no corresponden. Es crucial reforzar la captura de información para asegurar que tanto el departamento como la ciudad se registren correctamente.\n",
    "\n",
    "- El promedio de medidores instalados por ciudad es de 69. Se destaca que en Cartagena, Santa Marta y Cali se supera este promedio, indicando una mayor concentración de medidores en estas ciudades.\n",
    "\n",
    "- Durante el mes de abril, se registró un incremento en las críticas de medida en comparación con otros meses. Sería beneficioso investigar más a fondo si factores externos, como la temporada de lluvias o problemas con el operador de red, pudieron haber influido en la telemedida.\n",
    "\n",
    "- Las ciudades con más intentos de \"Crítica de medida\" o telemedida son Cartagena, Valledupar y Santa Marta. La eficacia de la telemedida puede depender del tipo de tecnología empleada, los medios de comunicación utilizados y la cobertura del operador. Disponer de esta información podría ser útil para categorizar los datos y desarrollar planes de mantenimiento que mejoren la eficiencia de la telemedida.\n",
    "\n",
    "- De los 980 medidores instalados, 99 aún no cuentan con una orden de trabajo asignada para la instalación del módem."
   ]
  }
 ],
 "metadata": {
  "kernelspec": {
   "display_name": "nuevo2-env",
   "language": "python",
   "name": "python3"
  },
  "language_info": {
   "codemirror_mode": {
    "name": "ipython",
    "version": 3
   },
   "file_extension": ".py",
   "mimetype": "text/x-python",
   "name": "python",
   "nbconvert_exporter": "python",
   "pygments_lexer": "ipython3",
   "version": "3.9.16"
  }
 },
 "nbformat": 4,
 "nbformat_minor": 2
}
